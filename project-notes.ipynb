{
 "cells": [
  {
   "cell_type": "markdown",
   "metadata": {},
   "source": [
    "# Elvato/ Medusa StoreFront Initialization\n",
    "***"
   ]
  },
  {
   "cell_type": "markdown",
   "metadata": {},
   "source": [
    "get-started: https://docs.medusajs.com/starters/nextjs-medusa-starter   \n",
    "catalogue: https://airtable.com/appWbQmjJ2alYZRtb/tblNMnrZHNmb4SaLW/viwDUIFuqOVV83D9w?blocks=hide"
   ]
  },
  {
   "cell_type": "markdown",
   "metadata": {},
   "source": [
    "### Latest Update: January 15, 2024 \n",
    "\n",
    "**Docs**   \n",
    "Vendure.io get-started: https://docs.vendure.io/guides/getting-started/installation/   \n",
    "Airtable catalogue: https://airtable.com/appWbQmjJ2alYZRtb/tblNMnrZHNmb4SaLW/viwDUIFuqOVV83D9w?blocks=hide   \n",
    "Shopify: https://admin.shopify.com/store/dev-elvatolighting/themes?appLoadId=af6e6997-172c-4b80-aca8-e53de6c9e9bc\n",
    "\n",
    "**node -v**   \n",
    "Latest: v21.1.0   \n",
    "Current (stable): v16.20.2 (npm v8.19.4)\n",
    "\n",
    "**PostGresql**  \n",
    "host=localhost port=5432 dbname=SolomonDB user=postgres connect_timeout=10 sslmode=prefer\n",
    "***"
   ]
  },
  {
   "cell_type": "markdown",
   "metadata": {},
   "source": [
    "## Hero Default"
   ]
  },
  {
   "cell_type": "code",
   "execution_count": null,
   "metadata": {
    "vscode": {
     "languageId": "javascript"
    }
   },
   "outputs": [],
   "source": [
    "import { Button, Heading } from \"@medusajs/ui\"\n",
    "import InteractiveLink from \"@modules/common/components/interactive-link\"\n",
    "import { Github } from \"@medusajs/icons\"\n",
    "\n",
    "const Hero = () => {\n",
    "  return (\n",
    "    <div className=\"h-[75vh] w-full border-b border-ui-border-base relative bg-ui-bg-subtle\">\n",
    "      <div className=\"absolute inset-0 z-10 flex flex-col justify-center items-center text-center small:p-32 gap-6\">\n",
    "        <span>\n",
    "          <Heading\n",
    "            level=\"h1\"\n",
    "            className=\"text-3xl leading-10 text-ui-fg-base font-normal\"\n",
    "          >\n",
    "            Ecommerce Starter Template\n",
    "          </Heading>\n",
    "          <Heading\n",
    "            level=\"h2\"\n",
    "            className=\"text-3xl leading-10 text-ui-fg-subtle font-normal\"\n",
    "          >\n",
    "            Powered by Medusa and Next.js\n",
    "          </Heading>\n",
    "        </span>\n",
    "        <a\n",
    "          href=\"https://github.com/medusajs/nextjs-starter-medusa\"\n",
    "          target=\"_blank\"\n",
    "        >\n",
    "          <Button variant=\"secondary\">\n",
    "            View on GitHub\n",
    "            <Github />\n",
    "          </Button>\n",
    "        </a>\n",
    "      </div>\n",
    "    </div>\n",
    "  )\n",
    "}\n",
    "\n",
    "export default Hero"
   ]
  },
  {
   "cell_type": "code",
   "execution_count": null,
   "metadata": {
    "vscode": {
     "languageId": "javascript"
    }
   },
   "outputs": [],
   "source": [
    "// Hero Implimentation Code (Container w/ Image in the Centre)\n",
    "\n",
    "import { Button, Heading } from \"@medusajs/ui\"\n",
    "import InteractiveLink from \"@modules/common/components/interactive-link\"\n",
    "import { Github } from \"@medusajs/icons\"\n",
    "\n",
    "const Hero = () => {\n",
    "  return (\n",
    "    <div className=\"mx-auto my-8 max-w-7xl rounded-xl overflow-hidden\">\n",
    "      <div className=\"h-[55vh] w-full border-b border-ui-border-base relative bg-ui-bg-subtle bg-cover bg-center bg-no-repeat\" \n",
    "           style={{ backgroundImage: \"url('/hero-img.svg')\" }}>\n",
    "        <div className=\"absolute inset-0 z-10 flex flex-col justify-center items-center text-center small:p-32 gap-6\">\n",
    "          {/* Your content here */}\n",
    "        </div>\n",
    "      </div>\n",
    "    </div>\n",
    "  )\n",
    "}\n",
    "\n",
    "export default Hero"
   ]
  },
  {
   "cell_type": "markdown",
   "metadata": {},
   "source": [
    "## Subscription Models"
   ]
  },
  {
   "cell_type": "markdown",
   "metadata": {},
   "source": [
    "1. Airtable Pro ($25/month)\n",
    "2. Amazon Sellers App ($50/month)"
   ]
  },
  {
   "cell_type": "markdown",
   "metadata": {},
   "source": []
  }
 ],
 "metadata": {
  "kernelspec": {
   "display_name": "venv",
   "language": "python",
   "name": "python3"
  },
  "language_info": {
   "name": "python",
   "version": "3.12.0"
  },
  "orig_nbformat": 4
 },
 "nbformat": 4,
 "nbformat_minor": 2
}
